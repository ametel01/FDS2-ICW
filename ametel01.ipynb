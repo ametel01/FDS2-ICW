{
 "cells": [
  {
   "cell_type": "code",
   "execution_count": 1,
   "id": "121ee7f9",
   "metadata": {},
   "outputs": [],
   "source": [
    "import matplotlib.pyplot as plt\n",
    "import numpy as np\n",
    "import matplotlib.pyplot as plt\n",
    "import math"
   ]
  },
  {
   "cell_type": "markdown",
   "id": "dc111cc1",
   "metadata": {},
   "source": [
    "### One polynomial and a sigmoid function are defined"
   ]
  },
  {
   "cell_type": "code",
   "execution_count": 2,
   "id": "e020109c",
   "metadata": {},
   "outputs": [],
   "source": [
    "poly_f = lambda x: x**3 + 2.*x**2 \n",
    "\n",
    "poly_Df = lambda x: 3.*x**2 + 4.*x\n",
    "\n",
    "sigmoid = lambda x: 1/(1 + np.exp(-x))\n",
    "\n",
    "sigmoid_Df = lambda x: sigmoid(x)*(1-sigmoid(x))\n",
    "    "
   ]
  },
  {
   "cell_type": "markdown",
   "id": "aefa3b64",
   "metadata": {},
   "source": [
    "### Newton's method"
   ]
  },
  {
   "cell_type": "code",
   "execution_count": 42,
   "id": "2467ee3a",
   "metadata": {},
   "outputs": [],
   "source": [
    "def newton(f,Df,x0,epsilon,max_iter): \n",
    "    xn = x0 \n",
    "    for n in range(0,max_iter): \n",
    "        fxn = f(xn) \n",
    "        if abs(fxn) < epsilon: \n",
    "            print('Found solution at', xn, 'after',n,'iterations.')\n",
    "            return None\n",
    "        Dfxn = Df(xn) \n",
    "        if Dfxn == 0: \n",
    "            print('Zero derivative. No solution found.') \n",
    "            return None \n",
    "        xn = xn - fxn/Dfxn \n",
    "    print('Exceeded maximum iterations. No solution found.') \n",
    "    return None"
   ]
  },
  {
   "cell_type": "markdown",
   "id": "cd599c06",
   "metadata": {},
   "source": [
    "### Gradient descent"
   ]
  },
  {
   "cell_type": "code",
   "execution_count": 47,
   "id": "9b313e7f",
   "metadata": {},
   "outputs": [],
   "source": [
    "def gradient_descent(gradient, start, learn_rate, n_iter=50, tolerance=1e-06):\n",
    "    iters = 0\n",
    "    vector = start\n",
    "    for _ in range(n_iter):\n",
    "        diff = -learn_rate * gradient(vector)\n",
    "        if np.all(np.abs(diff) <= tolerance):\n",
    "            break\n",
    "        vector += diff\n",
    "        iters += 1\n",
    "    print('Found that the local minima at', vector, 'after', iters,'iterations.')"
   ]
  },
  {
   "cell_type": "markdown",
   "id": "c3dacb55",
   "metadata": {},
   "source": [
    "### Newton's is applied to the polynomial function"
   ]
  },
  {
   "cell_type": "code",
   "execution_count": 66,
   "id": "ad807627",
   "metadata": {},
   "outputs": [
    {
     "name": "stdout",
     "output_type": "stream",
     "text": [
      "Found that the local minima at 2.4164253470436447e-05 after 254 iterations.\n"
     ]
    }
   ],
   "source": [
    "gradient_descent(poly_Df, 2, 0.01, 10000)"
   ]
  },
  {
   "cell_type": "markdown",
   "id": "22ed235a",
   "metadata": {},
   "source": [
    "### Gradient descent and Newton's is applied to polynomial function "
   ]
  },
  {
   "cell_type": "code",
   "execution_count": 45,
   "id": "490ecd4d",
   "metadata": {},
   "outputs": [
    {
     "name": "stdout",
     "output_type": "stream",
     "text": [
      "Found solution at 0.055712317703492165 after 6 iterations.\n"
     ]
    }
   ],
   "source": [
    "newton(poly_f, poly_Df, 2, 0.01, 100)"
   ]
  },
  {
   "cell_type": "markdown",
   "id": "e15ab4d4",
   "metadata": {},
   "source": [
    "### Gradient descent and Newton's is applied to sigmoid function"
   ]
  },
  {
   "cell_type": "code",
   "execution_count": 62,
   "id": "748a4c60",
   "metadata": {},
   "outputs": [
    {
     "name": "stdout",
     "output_type": "stream",
     "text": [
      "Found solution at -4.80699531368691 after 3 iterations.\n"
     ]
    }
   ],
   "source": [
    "newton(sigmoid, sigmoid_Df, 1, 0.01, 1000)"
   ]
  },
  {
   "cell_type": "code",
   "execution_count": 63,
   "id": "7cf8ed96",
   "metadata": {},
   "outputs": [
    {
     "name": "stdout",
     "output_type": "stream",
     "text": [
      "Found that the local minima at -4.585356209142985 after 1114 iterations.\n"
     ]
    }
   ],
   "source": [
    "gradient_descent(sigmoid_Df, 1, 0.1, 100000, 0.001)"
   ]
  },
  {
   "cell_type": "code",
   "execution_count": null,
   "id": "9cc41005",
   "metadata": {},
   "outputs": [],
   "source": []
  }
 ],
 "metadata": {
  "kernelspec": {
   "display_name": "Python 3 (ipykernel)",
   "language": "python",
   "name": "python3"
  },
  "language_info": {
   "codemirror_mode": {
    "name": "ipython",
    "version": 3
   },
   "file_extension": ".py",
   "mimetype": "text/x-python",
   "name": "python",
   "nbconvert_exporter": "python",
   "pygments_lexer": "ipython3",
   "version": "3.9.7"
  }
 },
 "nbformat": 4,
 "nbformat_minor": 5
}
